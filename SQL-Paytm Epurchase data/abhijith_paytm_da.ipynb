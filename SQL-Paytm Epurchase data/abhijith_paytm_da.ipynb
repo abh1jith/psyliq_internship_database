{
 "cells": [
  {
   "cell_type": "code",
   "execution_count": 9,
   "id": "37a3a4ff",
   "metadata": {},
   "outputs": [],
   "source": [
    "import pandas as pd\n",
    "import matplotlib.pyplot as plt\n"
   ]
  },
  {
   "cell_type": "code",
   "execution_count": null,
   "id": "93403d31",
   "metadata": {},
   "outputs": [],
   "source": [
    "data = pd.read_csv('Paytm-Epurchase-data.csv')"
   ]
  },
  {
   "cell_type": "code",
   "execution_count": 5,
   "id": "8031cf52",
   "metadata": {},
   "outputs": [
    {
     "data": {
      "text/plain": [
       "Index(['S.no', 'Name', 'Shipping_city', 'Category_Grouped', 'Category',\n",
       "       'Sub_category', 'Product_Gender', 'Segment', 'Class', 'Family', 'Brand',\n",
       "       'Brick', 'Item_NM', 'Color', 'Size', 'Sale_Flag', 'Payment_Method',\n",
       "       'coupon_money_effective', 'Coupon_Percentage', 'Quantity', 'Cost_Price',\n",
       "       'Item_Price', 'Special_Price_effective', 'paid_pr_effective',\n",
       "       'Value_CM1', 'Value_CM2', 'Special_price', 'Paid_pr'],\n",
       "      dtype='object')"
      ]
     },
     "execution_count": 5,
     "metadata": {},
     "output_type": "execute_result"
    }
   ],
   "source": [
    "data.columns"
   ]
  },
  {
   "cell_type": "code",
   "execution_count": 31,
   "id": "8ac52f58",
   "metadata": {},
   "outputs": [
    {
     "data": {
      "text/plain": [
       "Category_Grouped\n",
       "Apparels    56208837\n",
       "Home         3051213\n",
       "Others      83734877\n",
       "Shoes       68406549\n",
       "Name: Item_Price, dtype: int64"
      ]
     },
     "execution_count": 31,
     "metadata": {},
     "output_type": "execute_result"
    }
   ],
   "source": [
    "# 7. Total Sales Value for Each Category\n",
    "total_sales_by_category = data.groupby('Category_Grouped')['Item_Price'].sum()\n",
    "total_sales_by_category"
   ]
  },
  {
   "cell_type": "code",
   "execution_count": 32,
   "id": "e4880862",
   "metadata": {},
   "outputs": [
    {
     "data": {
      "image/png": "[encoded data removed]",
      "text/plain": [
       "<Figure size 1000x600 with 1 Axes>"
      ]
     },
     "metadata": {},
     "output_type": "display_data"
    }
   ],
   "source": [
    "# 8. Bar Chart for Total Sales by Category (visualization, not executable here)\n",
    "categories = ['Apparels', 'Home', 'Others', 'Shoes']\n",
    "paid_pr_values = [56208837, 3051213, 83734877, 68406549]\n",
    "\n",
    "# Create histogram\n",
    "plt.figure(figsize=(10, 6))\n",
    "plt.bar(categories, paid_pr_values, color=['blue', 'green', 'red', 'purple'])\n",
    "plt.xlabel('Category Grouped')\n",
    "plt.ylabel('Paid PR Values')\n",
    "plt.title('Histogram of Paid PR Values by Category')\n",
    "plt.show()\n"
   ]
  },
  {
   "cell_type": "code",
   "execution_count": 24,
   "id": "7a5d19d3",
   "metadata": {},
   "outputs": [
    {
     "data": {
      "text/plain": [
       "Series([], Name: Quantity, dtype: float64)"
      ]
     },
     "execution_count": 24,
     "metadata": {},
     "output_type": "execute_result"
    }
   ],
   "source": [
    "# 9. Average Quantity Sold by Product Gender in Clothing Category\n",
    "avg_quantity_clothing = data[data['Category_Grouped'] == 'Clothing'].groupby('Product_Gender')['Quantity'].mean()\n",
    "avg_quantity_clothing"
   ]
  },
  {
   "cell_type": "code",
   "execution_count": 25,
   "id": "3ff63c4b",
   "metadata": {},
   "outputs": [
    {
     "data": {
      "text/html": [
       "<div>\n",
       "<style scoped>\n",
       "    .dataframe tbody tr th:only-of-type {\n",
       "        vertical-align: middle;\n",
       "    }\n",
       "\n",
       "    .dataframe tbody tr th {\n",
       "        vertical-align: top;\n",
       "    }\n",
       "\n",
       "    .dataframe thead th {\n",
       "        text-align: right;\n",
       "    }\n",
       "</style>\n",
       "<table border=\"1\" class=\"dataframe\">\n",
       "  <thead>\n",
       "    <tr style=\"text-align: right;\">\n",
       "      <th></th>\n",
       "      <th>S.no</th>\n",
       "      <th>Name</th>\n",
       "      <th>Shipping_city</th>\n",
       "      <th>Category_Grouped</th>\n",
       "      <th>Category</th>\n",
       "      <th>Sub_category</th>\n",
       "      <th>Product_Gender</th>\n",
       "      <th>Segment</th>\n",
       "      <th>Class</th>\n",
       "      <th>Family</th>\n",
       "      <th>...</th>\n",
       "      <th>Quantity</th>\n",
       "      <th>Cost_Price</th>\n",
       "      <th>Item_Price</th>\n",
       "      <th>Special_Price_effective</th>\n",
       "      <th>paid_pr_effective</th>\n",
       "      <th>Value_CM1</th>\n",
       "      <th>Value_CM2</th>\n",
       "      <th>Special_price</th>\n",
       "      <th>Paid_pr</th>\n",
       "      <th>cm_ratio</th>\n",
       "    </tr>\n",
       "  </thead>\n",
       "  <tbody>\n",
       "    <tr>\n",
       "      <th>46</th>\n",
       "      <td>47</td>\n",
       "      <td>rohit gupta</td>\n",
       "      <td>Jaipur</td>\n",
       "      <td>Others</td>\n",
       "      <td>WATCHES</td>\n",
       "      <td>WATCHES</td>\n",
       "      <td>MEN</td>\n",
       "      <td>MENS ACCESSORIES</td>\n",
       "      <td>WATCHES</td>\n",
       "      <td>NaN</td>\n",
       "      <td>...</td>\n",
       "      <td>1</td>\n",
       "      <td>3503.31</td>\n",
       "      <td>5999</td>\n",
       "      <td>4499.0</td>\n",
       "      <td>4499.0</td>\n",
       "      <td>473.71</td>\n",
       "      <td>91.71</td>\n",
       "      <td>4499</td>\n",
       "      <td>4499</td>\n",
       "      <td>5.165304</td>\n",
       "    </tr>\n",
       "    <tr>\n",
       "      <th>52</th>\n",
       "      <td>53</td>\n",
       "      <td>HARANESWARAN tH</td>\n",
       "      <td>Chennai</td>\n",
       "      <td>NaN</td>\n",
       "      <td>Men Footwear</td>\n",
       "      <td>MENS FOOTWEAR</td>\n",
       "      <td>MEN</td>\n",
       "      <td>MENS FOOTWEAR</td>\n",
       "      <td>NaN</td>\n",
       "      <td>SPORTS</td>\n",
       "      <td>...</td>\n",
       "      <td>1</td>\n",
       "      <td>3503.31</td>\n",
       "      <td>5999</td>\n",
       "      <td>4499.0</td>\n",
       "      <td>4499.0</td>\n",
       "      <td>473.71</td>\n",
       "      <td>91.71</td>\n",
       "      <td>4499</td>\n",
       "      <td>4499</td>\n",
       "      <td>5.165304</td>\n",
       "    </tr>\n",
       "    <tr>\n",
       "      <th>279</th>\n",
       "      <td>280</td>\n",
       "      <td>Neeraj Pandey</td>\n",
       "      <td>Gurgaon</td>\n",
       "      <td>NaN</td>\n",
       "      <td>Men Footwear</td>\n",
       "      <td>MENS FOOTWEAR</td>\n",
       "      <td>MEN</td>\n",
       "      <td>MENS FOOTWEAR</td>\n",
       "      <td>NaN</td>\n",
       "      <td>SPORTS</td>\n",
       "      <td>...</td>\n",
       "      <td>1</td>\n",
       "      <td>3503.31</td>\n",
       "      <td>5999</td>\n",
       "      <td>4499.0</td>\n",
       "      <td>4499.0</td>\n",
       "      <td>473.71</td>\n",
       "      <td>91.71</td>\n",
       "      <td>4499</td>\n",
       "      <td>4499</td>\n",
       "      <td>5.165304</td>\n",
       "    </tr>\n",
       "    <tr>\n",
       "      <th>327</th>\n",
       "      <td>328</td>\n",
       "      <td>mayank bajaj</td>\n",
       "      <td>Gwalior</td>\n",
       "      <td>NaN</td>\n",
       "      <td>Men Footwear</td>\n",
       "      <td>MENS FOOTWEAR</td>\n",
       "      <td>MEN</td>\n",
       "      <td>MENS FOOTWEAR</td>\n",
       "      <td>NaN</td>\n",
       "      <td>SPORTS</td>\n",
       "      <td>...</td>\n",
       "      <td>1</td>\n",
       "      <td>3503.31</td>\n",
       "      <td>5999</td>\n",
       "      <td>4499.0</td>\n",
       "      <td>4499.0</td>\n",
       "      <td>473.71</td>\n",
       "      <td>91.71</td>\n",
       "      <td>4499</td>\n",
       "      <td>4499</td>\n",
       "      <td>5.165304</td>\n",
       "    </tr>\n",
       "    <tr>\n",
       "      <th>392</th>\n",
       "      <td>393</td>\n",
       "      <td>sakkiah vinayag</td>\n",
       "      <td>Chennai</td>\n",
       "      <td>Others</td>\n",
       "      <td>WATCHES</td>\n",
       "      <td>WATCHES</td>\n",
       "      <td>MEN</td>\n",
       "      <td>MENS ACCESSORIES</td>\n",
       "      <td>WATCHES</td>\n",
       "      <td>NaN</td>\n",
       "      <td>...</td>\n",
       "      <td>1</td>\n",
       "      <td>3503.31</td>\n",
       "      <td>5999</td>\n",
       "      <td>4499.0</td>\n",
       "      <td>4499.0</td>\n",
       "      <td>473.71</td>\n",
       "      <td>91.71</td>\n",
       "      <td>4499</td>\n",
       "      <td>4499</td>\n",
       "      <td>5.165304</td>\n",
       "    </tr>\n",
       "  </tbody>\n",
       "</table>\n",
       "<p>5 rows × 29 columns</p>\n",
       "</div>"
      ],
      "text/plain": [
       "     S.no             Name Shipping_city Category_Grouped      Category  \\\n",
       "46     47      rohit gupta        Jaipur           Others       WATCHES   \n",
       "52     53  HARANESWARAN tH       Chennai              NaN  Men Footwear   \n",
       "279   280    Neeraj Pandey       Gurgaon              NaN  Men Footwear   \n",
       "327   328     mayank bajaj       Gwalior              NaN  Men Footwear   \n",
       "392   393  sakkiah vinayag       Chennai           Others       WATCHES   \n",
       "\n",
       "      Sub_category Product_Gender           Segment    Class  Family  ...  \\\n",
       "46         WATCHES            MEN  MENS ACCESSORIES  WATCHES     NaN  ...   \n",
       "52   MENS FOOTWEAR            MEN     MENS FOOTWEAR      NaN  SPORTS  ...   \n",
       "279  MENS FOOTWEAR            MEN     MENS FOOTWEAR      NaN  SPORTS  ...   \n",
       "327  MENS FOOTWEAR            MEN     MENS FOOTWEAR      NaN  SPORTS  ...   \n",
       "392        WATCHES            MEN  MENS ACCESSORIES  WATCHES     NaN  ...   \n",
       "\n",
       "    Quantity Cost_Price Item_Price Special_Price_effective paid_pr_effective  \\\n",
       "46         1    3503.31       5999                  4499.0            4499.0   \n",
       "52         1    3503.31       5999                  4499.0            4499.0   \n",
       "279        1    3503.31       5999                  4499.0            4499.0   \n",
       "327        1    3503.31       5999                  4499.0            4499.0   \n",
       "392        1    3503.31       5999                  4499.0            4499.0   \n",
       "\n",
       "    Value_CM1 Value_CM2  Special_price  Paid_pr  cm_ratio  \n",
       "46     473.71     91.71           4499     4499  5.165304  \n",
       "52     473.71     91.71           4499     4499  5.165304  \n",
       "279    473.71     91.71           4499     4499  5.165304  \n",
       "327    473.71     91.71           4499     4499  5.165304  \n",
       "392    473.71     91.71           4499     4499  5.165304  \n",
       "\n",
       "[5 rows x 29 columns]"
      ]
     },
     "execution_count": 25,
     "metadata": {},
     "output_type": "execute_result"
    }
   ],
   "source": [
    "# 10. Top 5 Products by 'Value_CM1' and 'Value_CM2' Ratios\n",
    "data['cm_ratio'] = data['Value_CM1'] / data['Value_CM2']\n",
    "top_products = data.nlargest(5, 'cm_ratio')\n",
    "top_products"
   ]
  },
  {
   "cell_type": "code",
   "execution_count": 33,
   "id": "1bca3bf7",
   "metadata": {},
   "outputs": [
    {
     "data": {
      "text/plain": [
       "Class\n",
       "WATCHES    62213793\n",
       "SETS       25529167\n",
       "AVIATOR    15863415\n",
       "Name: Item_Price, dtype: int64"
      ]
     },
     "execution_count": 33,
     "metadata": {},
     "output_type": "execute_result"
    }
   ],
   "source": [
    "# 11. Top 3 Classes by Total Sales and Visualization\n",
    "top_classes = data.groupby('Class')['Item_Price'].sum().nlargest(3)\n",
    "top_classes"
   ]
  },
  {
   "cell_type": "code",
   "execution_count": 34,
   "id": "3a29392e",
   "metadata": {},
   "outputs": [
    {
     "data": {
      "text/plain": [
       "Brand\n",
       "NIKE       43406505\n",
       "SANGRIA    22614700\n",
       "PUMA       20832027\n",
       "Name: Item_Price, dtype: int64"
      ]
     },
     "execution_count": 34,
     "metadata": {},
     "output_type": "execute_result"
    }
   ],
   "source": [
    "# 12. Top 3 Brands by Sales\n",
    "top_brands = data.groupby('Brand')['Item_Price'].sum().nlargest(3)\n",
    "top_brands"
   ]
  },
  {
   "cell_type": "code",
   "execution_count": 36,
   "id": "cbb28534",
   "metadata": {
    "scrolled": true
   },
   "outputs": [
    {
     "data": {
      "text/plain": [
       "0"
      ]
     },
     "execution_count": 36,
     "metadata": {},
     "output_type": "execute_result"
    }
   ],
   "source": [
    "# 13. Total Revenue from 'Electronics' with 'Sale_Flag' 'Yes'\n",
    "total_revenue_electronics = data[(data['Category'] == 'Electronics') & (data['Sale_Flag'] == 'On Sale')]['Item_Price'].sum()\n",
    "total_revenue_electronics"
   ]
  },
  {
   "cell_type": "code",
   "execution_count": 39,
   "id": "93a33223",
   "metadata": {
    "scrolled": true
   },
   "outputs": [
    {
     "data": {
      "text/plain": [
       "Shipping_city\n",
       "BILIMORA      13500.0\n",
       "Dalhousie     13500.0\n",
       "Devakottai    13500.0\n",
       "Gopeshwar     13500.0\n",
       "Karad         13500.0\n",
       "Name: order_value, dtype: float64"
      ]
     },
     "execution_count": 39,
     "metadata": {},
     "output_type": "execute_result"
    }
   ],
   "source": [
    "# 14. Top 5 Shipping Cities by Average Order Value\n",
    "data['order_value'] = data['Item_Price'] / data['Quantity']\n",
    "top_cities_avg_order = data.groupby('Shipping_city')['order_value'].mean().nlargest(5)\n",
    "top_cities_avg_order"
   ]
  },
  {
   "cell_type": "code",
   "execution_count": 41,
   "id": "dfd048e4",
   "metadata": {
    "scrolled": true
   },
   "outputs": [
    {
     "data": {
      "text/html": [
       "<div>\n",
       "<style scoped>\n",
       "    .dataframe tbody tr th:only-of-type {\n",
       "        vertical-align: middle;\n",
       "    }\n",
       "\n",
       "    .dataframe tbody tr th {\n",
       "        vertical-align: top;\n",
       "    }\n",
       "\n",
       "    .dataframe thead th {\n",
       "        text-align: right;\n",
       "    }\n",
       "</style>\n",
       "<table border=\"1\" class=\"dataframe\">\n",
       "  <thead>\n",
       "    <tr style=\"text-align: right;\">\n",
       "      <th></th>\n",
       "      <th>S.no</th>\n",
       "      <th>Paid_pr</th>\n",
       "    </tr>\n",
       "    <tr>\n",
       "      <th>Product_Gender</th>\n",
       "      <th></th>\n",
       "      <th></th>\n",
       "    </tr>\n",
       "  </thead>\n",
       "  <tbody>\n",
       "  </tbody>\n",
       "</table>\n",
       "</div>"
      ],
      "text/plain": [
       "Empty DataFrame\n",
       "Columns: [S.no, Paid_pr]\n",
       "Index: []"
      ]
     },
     "execution_count": 41,
     "metadata": {},
     "output_type": "execute_result"
    }
   ],
   "source": [
    "# 15. Total Orders and Sales by Product Gender in Clothing Category\n",
    "clothing_data = data[data['Category_Grouped'] == 'Clothing']\n",
    "total_orders_sales_clothing = clothing_data.groupby('Product_Gender').agg({'S.no': 'count', 'Paid_pr': 'sum'})\n",
    "total_orders_sales_clothing"
   ]
  },
  {
   "cell_type": "code",
   "execution_count": 43,
   "id": "3527d2bd",
   "metadata": {},
   "outputs": [
    {
     "data": {
      "text/plain": [
       "Category_Grouped\n",
       "Apparels    18.960235\n",
       "Home         1.029228\n",
       "Others      28.245255\n",
       "Shoes       23.074739\n",
       "Name: Item_Price, dtype: float64"
      ]
     },
     "execution_count": 43,
     "metadata": {},
     "output_type": "execute_result"
    }
   ],
   "source": [
    "# 16. Percentage Contribution of Each Category to Overall Sales\n",
    "total_sales = data['Item_Price'].sum()\n",
    "category_contribution = (data.groupby('Category_Grouped')['Item_Price'].sum() / total_sales) * 100\n",
    "category_contribution"
   ]
  },
  {
   "cell_type": "code",
   "execution_count": 44,
   "id": "1ca0c6b7",
   "metadata": {
    "scrolled": true
   },
   "outputs": [
    {
     "data": {
      "text/plain": [
       "5920.169471153846"
      ]
     },
     "execution_count": 44,
     "metadata": {},
     "output_type": "execute_result"
    }
   ],
   "source": [
    "# 17. Category with Highest Average Item Price\n",
    "highest_avg_price_category = data.groupby('Category_Grouped')['Item_Price'].mean().idxmax()\n",
    "highest_avg_price = data.groupby('Category_Grouped')['Item_Price'].mean().max()\n",
    "highest_avg_price"
   ]
  },
  {
   "cell_type": "code",
   "execution_count": null,
   "id": "b66ebaf8",
   "metadata": {},
   "outputs": [],
   "source": [
    "# 18. Month with Highest Sales Revenue\n",
    "data['month'] = pd.to_datetime(data['order_date']).dt.month\n",
    "highest_sales_month = data.groupby('month')['Item_Price'].sum().idxmax()\n",
    "highest_sales_month\n",
    "\n",
    "# THIS IS NOT A GOOD QUESTION SINCE THERE IS NO FEATURE WITH DATES IN THE DATASET"
   ]
  },
  {
   "cell_type": "code",
   "execution_count": 47,
   "id": "55a09d55",
   "metadata": {},
   "outputs": [
    {
     "data": {
      "text/html": [
       "<div>\n",
       "<style scoped>\n",
       "    .dataframe tbody tr th:only-of-type {\n",
       "        vertical-align: middle;\n",
       "    }\n",
       "\n",
       "    .dataframe tbody tr th {\n",
       "        vertical-align: top;\n",
       "    }\n",
       "\n",
       "    .dataframe thead th {\n",
       "        text-align: right;\n",
       "    }\n",
       "</style>\n",
       "<table border=\"1\" class=\"dataframe\">\n",
       "  <thead>\n",
       "    <tr style=\"text-align: right;\">\n",
       "      <th></th>\n",
       "      <th>Item_Price</th>\n",
       "      <th>Quantity</th>\n",
       "    </tr>\n",
       "    <tr>\n",
       "      <th>Segment</th>\n",
       "      <th></th>\n",
       "      <th></th>\n",
       "    </tr>\n",
       "  </thead>\n",
       "  <tbody>\n",
       "    <tr>\n",
       "      <th>HOME FURNISHING</th>\n",
       "      <td>3051213</td>\n",
       "      <td>1.000000</td>\n",
       "    </tr>\n",
       "    <tr>\n",
       "      <th>LADIES FOOTWEAR</th>\n",
       "      <td>13408398</td>\n",
       "      <td>1.000000</td>\n",
       "    </tr>\n",
       "    <tr>\n",
       "      <th>LIVING</th>\n",
       "      <td>3961755</td>\n",
       "      <td>1.000000</td>\n",
       "    </tr>\n",
       "    <tr>\n",
       "      <th>MEN</th>\n",
       "      <td>22291728</td>\n",
       "      <td>1.000000</td>\n",
       "    </tr>\n",
       "    <tr>\n",
       "      <th>MENS ACCESSORIES</th>\n",
       "      <td>13279676</td>\n",
       "      <td>1.000000</td>\n",
       "    </tr>\n",
       "    <tr>\n",
       "      <th>MENS APPARELS</th>\n",
       "      <td>723305</td>\n",
       "      <td>1.000000</td>\n",
       "    </tr>\n",
       "    <tr>\n",
       "      <th>MENS FOOTWEAR</th>\n",
       "      <td>101245089</td>\n",
       "      <td>1.000340</td>\n",
       "    </tr>\n",
       "    <tr>\n",
       "      <th>MENS WEAR</th>\n",
       "      <td>15039825</td>\n",
       "      <td>1.000000</td>\n",
       "    </tr>\n",
       "    <tr>\n",
       "      <th>OUTDOOR &amp; HIKING</th>\n",
       "      <td>3045195</td>\n",
       "      <td>1.000000</td>\n",
       "    </tr>\n",
       "    <tr>\n",
       "      <th>SUNGLASSES</th>\n",
       "      <td>18931045</td>\n",
       "      <td>1.000000</td>\n",
       "    </tr>\n",
       "    <tr>\n",
       "      <th>UNISEX</th>\n",
       "      <td>15519256</td>\n",
       "      <td>1.000000</td>\n",
       "    </tr>\n",
       "    <tr>\n",
       "      <th>WOMEN</th>\n",
       "      <td>30013131</td>\n",
       "      <td>1.001868</td>\n",
       "    </tr>\n",
       "    <tr>\n",
       "      <th>WOMENS ACCESSORIES</th>\n",
       "      <td>7386940</td>\n",
       "      <td>1.010575</td>\n",
       "    </tr>\n",
       "    <tr>\n",
       "      <th>WOMENS JEWELLERY</th>\n",
       "      <td>4549307</td>\n",
       "      <td>1.004983</td>\n",
       "    </tr>\n",
       "    <tr>\n",
       "      <th>WOMENS WEAR</th>\n",
       "      <td>44010575</td>\n",
       "      <td>1.000000</td>\n",
       "    </tr>\n",
       "  </tbody>\n",
       "</table>\n",
       "</div>"
      ],
      "text/plain": [
       "                    Item_Price  Quantity\n",
       "Segment                                 \n",
       "HOME FURNISHING        3051213  1.000000\n",
       "LADIES FOOTWEAR       13408398  1.000000\n",
       "LIVING                 3961755  1.000000\n",
       "MEN                   22291728  1.000000\n",
       "MENS ACCESSORIES      13279676  1.000000\n",
       "MENS APPARELS           723305  1.000000\n",
       "MENS FOOTWEAR        101245089  1.000340\n",
       "MENS WEAR             15039825  1.000000\n",
       "OUTDOOR & HIKING       3045195  1.000000\n",
       "SUNGLASSES            18931045  1.000000\n",
       "UNISEX                15519256  1.000000\n",
       "WOMEN                 30013131  1.001868\n",
       "WOMENS ACCESSORIES     7386940  1.010575\n",
       "WOMENS JEWELLERY       4549307  1.004983\n",
       "WOMENS WEAR           44010575  1.000000"
      ]
     },
     "execution_count": 47,
     "metadata": {},
     "output_type": "execute_result"
    }
   ],
   "source": [
    "# 19. Total Sales and Average Quantity Sold per Order by Segment\n",
    "segment_sales = data.groupby('Segment').agg({'Item_Price': 'sum', 'Quantity': 'mean'})\n",
    "segment_sales"
   ]
  }
 ],
 "metadata": {
  "kernelspec": {
   "display_name": "Python 3.11",
   "language": "python",
   "name": "python311"
  },
  "language_info": {
   "codemirror_mode": {
    "name": "ipython",
    "version": 3
   },
   "file_extension": ".py",
   "mimetype": "text/x-python",
   "name": "python",
   "nbconvert_exporter": "python",
   "pygments_lexer": "ipython3",
   "version": "3.11.0"
  }
 },
 "nbformat": 4,
 "nbformat_minor": 5
}
